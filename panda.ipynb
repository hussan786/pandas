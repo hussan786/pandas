{
  "nbformat": 4,
  "nbformat_minor": 0,
  "metadata": {
    "colab": {
      "provenance": []
    },
    "kernelspec": {
      "name": "python3",
      "display_name": "Python 3"
    },
    "language_info": {
      "name": "python"
    }
  },
  "cells": [
    {
      "cell_type": "code",
      "execution_count": 1,
      "metadata": {
        "id": "aOKTIIwxIeCT"
      },
      "outputs": [],
      "source": [
        "import pandas\n"
      ]
    },
    {
      "cell_type": "code",
      "source": [
        "b=pandas.read_csv(\"/content/panda.csv\")\n",
        "print(b)"
      ],
      "metadata": {
        "colab": {
          "base_uri": "https://localhost:8080/"
        },
        "id": "waodK3-fIh0b",
        "outputId": "798b37d0-bcf7-4286-875b-b0501bc0cc48"
      },
      "execution_count": 3,
      "outputs": [
        {
          "output_type": "stream",
          "name": "stdout",
          "text": [
            "      Name   Age  Occupation\n",
            "0    Alice    30    Engineer\n",
            "1      Bob    25    Designer\n",
            "2  Charlie    35     Teacher\n"
          ]
        }
      ]
    },
    {
      "cell_type": "code",
      "source": [
        "u=pandas.read_csv(\"/content/pan.csv\")\n",
        "print(u)"
      ],
      "metadata": {
        "colab": {
          "base_uri": "https://localhost:8080/"
        },
        "id": "lnCyhbqTJOMa",
        "outputId": "a80d3bd2-5633-4515-f5bf-967969916820"
      },
      "execution_count": 4,
      "outputs": [
        {
          "output_type": "stream",
          "name": "stdout",
          "text": [
            "   t+Duration             Movie  ReleaseYears\n",
            "0        7020      Blade Runner     1980-1990\n",
            "1        5220     The Lion King     1990-2000\n",
            "2        7560     Jurassic Park     1990-2000\n",
            "3        9120   The Dark Knight     2000-2010\n"
          ]
        }
      ]
    },
    {
      "cell_type": "code",
      "source": [
        "s=pandas.read_csv(\"/content/pands.csv\")\n",
        "print(s)"
      ],
      "metadata": {
        "colab": {
          "base_uri": "https://localhost:8080/"
        },
        "id": "3kCBFhNsJflK",
        "outputId": "ad389318-f95c-4ae4-ee3d-6ce0abaf0142"
      },
      "execution_count": 5,
      "outputs": [
        {
          "output_type": "stream",
          "name": "stdout",
          "text": [
            "  df_train = pd.read_csv(r'invoice_train.csv'   dtype={\"client_id\": \"string\"  \\\n",
            "0     df_train.to_json(r'invoice_train.json')                            NaN   \n",
            "\n",
            "    \"invoice_date\": \"string\"   \"tarif_type\": \"string\"  \\\n",
            "0                        NaN                      NaN   \n",
            "\n",
            "    \"counter_number\": \"string\"   \"counter_statue\": int  \\\n",
            "0                          NaN                     NaN   \n",
            "\n",
            "    \"counter_code\": \"string\"   \"reading_remarque\": \"string\"  \\\n",
            "0                        NaN                            NaN   \n",
            "\n",
            "    \"counter_coefficient\": int   \"consommation_level_1\": int  \\\n",
            "0                          NaN                           NaN   \n",
            "\n",
            "    \"consommation_level_2\": int   \"consommation_level_3\": int  \\\n",
            "0                           NaN                           NaN   \n",
            "\n",
            "    \"consommation_level_4\": int   \"old_index\": int   \"new_index\": int  \\\n",
            "0                           NaN                NaN                NaN   \n",
            "\n",
            "    \"months_number\": int   \"counter_type\": \"string\"})   \n",
            "0                    NaN                           NaN  \n"
          ]
        }
      ]
    },
    {
      "cell_type": "code",
      "source": [
        "us=pandas.read_csv(\"/content/pandasss.csv\")\n",
        "print(us)"
      ],
      "metadata": {
        "colab": {
          "base_uri": "https://localhost:8080/"
        },
        "id": "b9-fmUZNLGpz",
        "outputId": "e12de2b1-a8be-46fe-819d-351f6f5a6de1"
      },
      "execution_count": 6,
      "outputs": [
        {
          "output_type": "stream",
          "name": "stdout",
          "text": [
            "Empty DataFrame\n",
            "Columns: [conversions = {\"client_id\": \"string\",  \"invoice_date\": \"string\",  \"tarif_type\": \"string\",  \"counter_number\": \"string\",  \"invoice_date\": \"string\".1,  \"counter_status\": int,  \"counter_code\": \"string\",  \"reading_remarque\": \"string\",  \"counter_coefficient\": int,  \"consommation_level_1\": int,  \"consommation_level_2\": int,  \"consommation_level_3\": int,  \"consommation_level_4\": int,  \"old_index\": int,  \"new_index\": int,  \"months_number\": int,  \"counter_type\": \"string\"}]\n",
            "Index: []\n"
          ]
        }
      ]
    },
    {
      "cell_type": "code",
      "source": [
        "y=pandas.read_csv(\"/content/pas.csv\")\n",
        "print(y)"
      ],
      "metadata": {
        "colab": {
          "base_uri": "https://localhost:8080/"
        },
        "id": "JpnH1dTWLyvr",
        "outputId": "5501fed1-be25-430c-ade4-f5c7155e5586"
      },
      "execution_count": 7,
      "outputs": [
        {
          "output_type": "stream",
          "name": "stdout",
          "text": [
            "       ggv  gyghf gygfdrer\n",
            "0      ftfv  gfui      ffh\n",
            "1  fftiuhik   yyt       ft\n",
            "2      1213  7567       54\n"
          ]
        }
      ]
    }
  ]
}