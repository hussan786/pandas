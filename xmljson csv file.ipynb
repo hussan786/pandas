{
  "nbformat": 4,
  "nbformat_minor": 0,
  "metadata": {
    "colab": {
      "provenance": []
    },
    "kernelspec": {
      "name": "python3",
      "display_name": "Python 3"
    },
    "language_info": {
      "name": "python"
    }
  },
  "cells": [
    {
      "cell_type": "code",
      "source": [
        "import pandas"
      ],
      "metadata": {
        "id": "2znwHOmGo32z"
      },
      "execution_count": 9,
      "outputs": []
    },
    {
      "cell_type": "code",
      "source": [
        "import gspread_dataframe"
      ],
      "metadata": {
        "id": "NebGVBWoo9TL"
      },
      "execution_count": 13,
      "outputs": []
    },
    {
      "cell_type": "code",
      "execution_count": 24,
      "metadata": {
        "id": "QjgvUy-xlD2O"
      },
      "outputs": [],
      "source": []
    },
    {
      "cell_type": "code",
      "source": [],
      "metadata": {
        "id": "9I1Ngep6n_eM"
      },
      "execution_count": 24,
      "outputs": []
    },
    {
      "cell_type": "code",
      "source": [],
      "metadata": {
        "id": "Ko7st72zoD9D"
      },
      "execution_count": 24,
      "outputs": []
    },
    {
      "cell_type": "code",
      "source": [
        "import pandas"
      ],
      "metadata": {
        "id": "5fCwWLivotaz"
      },
      "execution_count": 7,
      "outputs": []
    },
    {
      "cell_type": "code",
      "source": [
        " #making dictionary\n",
        "users={\n",
        "    \"id\":[3,5,6,],\n",
        "    \"name\":[\"hr\",\"hth\",\"ef\"]\n",
        "}\n",
        "print(users)\n",
        "users_df=pandas.DataFrame(users)\n",
        "print(users_df)\n",
        "#to save data in csv file\n",
        "users_df.to_csv(\"data_1.csv\")\n"
      ],
      "metadata": {
        "colab": {
          "base_uri": "https://localhost:8080/"
        },
        "id": "CJAoYi-pnCCL",
        "outputId": "c1207e51-7895-4b84-c08d-0ee1cdbf4ce6"
      },
      "execution_count": 8,
      "outputs": [
        {
          "output_type": "stream",
          "name": "stdout",
          "text": [
            "{'id': [3, 5, 6], 'name': ['hr', 'hth', 'ef']}\n",
            "   id name\n",
            "0   3   hr\n",
            "1   5  hth\n",
            "2   6   ef\n"
          ]
        }
      ]
    },
    {
      "cell_type": "code",
      "source": [],
      "metadata": {
        "id": "YIl5M4J4p-P8"
      },
      "execution_count": 24,
      "outputs": []
    },
    {
      "cell_type": "code",
      "source": [
        "import pandas as pd\n",
        "\n",
        "# Define a dictionary\n",
        "data = {\n",
        "    'Name': ['Alice', 'Bob', 'Charlie'],\n",
        "    'Age': [25, 30, 35],\n",
        "    'City': ['New York', 'Los Angeles', 'Chicago']\n",
        "}\n",
        "\n",
        "# Create a DataFrame\n",
        "df = pd.DataFrame(data)\n",
        "\n",
        "# Display the DataFrame\n",
        "print(df)"
      ],
      "metadata": {
        "colab": {
          "base_uri": "https://localhost:8080/"
        },
        "id": "lu0upsc7qo57",
        "outputId": "8ebad004-8178-4efd-d488-2714bf78d192"
      },
      "execution_count": 18,
      "outputs": [
        {
          "output_type": "stream",
          "name": "stdout",
          "text": [
            "      Name  Age         City\n",
            "0    Alice   25     New York\n",
            "1      Bob   30  Los Angeles\n",
            "2  Charlie   35      Chicago\n"
          ]
        }
      ]
    },
    {
      "cell_type": "code",
      "source": [
        "# Define column names\n",
        "columns = ['Name', 'Age', 'City']\n",
        "\n",
        "# Create DataFrame\n",
        "df = pd.DataFrame(data, columns=columns)\n",
        "\n",
        "# Display the DataFrame\n",
        "print(df)"
      ],
      "metadata": {
        "colab": {
          "base_uri": "https://localhost:8080/"
        },
        "id": "hwiZNDS2qtSb",
        "outputId": "f2b3272f-20de-47c7-e0e6-6bde715ab94f"
      },
      "execution_count": 19,
      "outputs": [
        {
          "output_type": "stream",
          "name": "stdout",
          "text": [
            "      Name  Age         City\n",
            "0    Alice   25     New York\n",
            "1      Bob   30  Los Angeles\n",
            "2  Charlie   35      Chicago\n"
          ]
        }
      ]
    },
    {
      "cell_type": "code",
      "source": [
        "import pandas as pd\n",
        "\n",
        "# Your dictionary\n",
        "users = {\n",
        "    'id': [2, 3, 4, 5],\n",
        "    'name': [\"rt\", \"ty\", \"yth\", \"teg\"],\n",
        "    'marks': [67, 65, 23, 54]\n",
        "}\n",
        "\n",
        "# Convert to a DataFrame\n",
        "users_df = pd.DataFrame(users)\n",
        "\n",
        "# Convert DataFrame to XML\n",
        "users_df.to_xml('output_user.xml', index=False)\n",
        "\n",
        "print(\"XML file created successfully!\")"
      ],
      "metadata": {
        "colab": {
          "base_uri": "https://localhost:8080/"
        },
        "id": "VCWwhfezrD8z",
        "outputId": "a1c46064-ea46-4116-924e-b18113a797e2"
      },
      "execution_count": 22,
      "outputs": [
        {
          "output_type": "stream",
          "name": "stdout",
          "text": [
            "XML file created successfully!\n"
          ]
        }
      ]
    },
    {
      "cell_type": "code",
      "source": [
        "users={\n",
        "    \"id\":[3,5,6,],\n",
        "    \"name\":[\"hr\",\"hth\",\"ef\"]\n",
        "}\n",
        "print(users)\n",
        "users_df=pandas.DataFrame(users)\n",
        "print(users_df)\n",
        "#converting to xml\n",
        "users_df.to_xml(\"data_2.xml\")"
      ],
      "metadata": {
        "colab": {
          "base_uri": "https://localhost:8080/"
        },
        "id": "8sVtm-JHsAob",
        "outputId": "56411ddc-7323-4fdf-bf58-478f78f7e3b9"
      },
      "execution_count": 26,
      "outputs": [
        {
          "output_type": "stream",
          "name": "stdout",
          "text": [
            "{'id': [3, 5, 6], 'name': ['hr', 'hth', 'ef']}\n",
            "   id name\n",
            "0   3   hr\n",
            "1   5  hth\n",
            "2   6   ef\n"
          ]
        }
      ]
    }
  ]
}