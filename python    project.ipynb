{
 "cells": [
  {
   "cell_type": "code",
   "execution_count": 2,
   "metadata": {},
   "outputs": [],
   "source": [
    "import pandas"
   ]
  },
  {
   "cell_type": "code",
   "execution_count": 3,
   "metadata": {},
   "outputs": [
    {
     "name": "stdout",
     "output_type": "stream",
     "text": [
      "       name  age\n",
      "0  John Doe   30\n",
      "1  Jane Doe   25\n"
     ]
    }
   ],
   "source": [
    "df=pandas.read_csv(\"pandaas.csv\")\n",
    "print(df)"
   ]
  },
  {
   "cell_type": "code",
   "execution_count": 4,
   "metadata": {},
   "outputs": [
    {
     "name": "stdout",
     "output_type": "stream",
     "text": [
      "      Name   Age  Occupation\n",
      "0    Alice    30    Engineer\n",
      "1      Bob    25    Designer\n",
      "2  Charlie    35     Teacher\n"
     ]
    }
   ],
   "source": [
    "u=pandas.read_csv(\"panda.csv\")\n",
    "print(u)"
   ]
  },
  {
   "cell_type": "code",
   "execution_count": 5,
   "metadata": {},
   "outputs": [
    {
     "name": "stdout",
     "output_type": "stream",
     "text": [
      "   t+Duration             Movie  ReleaseYears\n",
      "0        7020      Blade Runner     1980-1990\n",
      "1        5220     The Lion King     1990-2000\n",
      "2        7560     Jurassic Park     1990-2000\n",
      "3        9120   The Dark Knight     2000-2010\n"
     ]
    }
   ],
   "source": [
    "a=pandas.read_csv(\"pan.csv\")\n",
    "print(a)"
   ]
  },
  {
   "cell_type": "code",
   "execution_count": 6,
   "metadata": {},
   "outputs": [
    {
     "name": "stdout",
     "output_type": "stream",
     "text": [
      "  Invoice Date  Quantity Country   Week Day\n",
      "0   2018-05-15         3  France    Tuesday\n",
      "1   2018-05-16         4   Italy  Wednesday\n",
      "2   2018-05-17         2   Spain   Thursday\n",
      "3   2018-05-12         2   Japan   Saturday\n"
     ]
    }
   ],
   "source": [
    "m=pandas.read_csv(\"pand.csv\")\n",
    "print(m)"
   ]
  }
 ],
 "metadata": {
  "kernelspec": {
   "display_name": "Python 3",
   "language": "python",
   "name": "python3"
  },
  "language_info": {
   "codemirror_mode": {
    "name": "ipython",
    "version": 3
   },
   "file_extension": ".py",
   "mimetype": "text/x-python",
   "name": "python",
   "nbconvert_exporter": "python",
   "pygments_lexer": "ipython3",
   "version": "3.12.3"
  }
 },
 "nbformat": 4,
 "nbformat_minor": 2
}
